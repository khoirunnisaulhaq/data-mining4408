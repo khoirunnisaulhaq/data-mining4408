{
  "nbformat": 4,
  "nbformat_minor": 0,
  "metadata": {
    "colab": {
      "provenance": []
    },
    "kernelspec": {
      "name": "python3",
      "display_name": "Python 3"
    },
    "language_info": {
      "name": "python"
    }
  },
  "cells": [
    {
      "cell_type": "code",
      "execution_count": 1,
      "metadata": {
        "id": "k6YtrrQrcrJ4"
      },
      "outputs": [],
      "source": [
        "import numpy as np\n",
        "import matplotlib.pyplot as plt\n",
        "import pandas as pd"
      ]
    },
    {
      "cell_type": "code",
      "source": [
        "dataset = pd.read_csv('Data.csv')\n",
        "x = dataset.iloc[:, :-1].values\n",
        "y = dataset.iloc[:, -1].values"
      ],
      "metadata": {
        "id": "bgejNm6XgJmA"
      },
      "execution_count": 2,
      "outputs": []
    },
    {
      "cell_type": "code",
      "source": [
        "print(x)"
      ],
      "metadata": {
        "colab": {
          "base_uri": "https://localhost:8080/"
        },
        "id": "In0rTBiZgRBe",
        "outputId": "23d64ab6-5800-4b07-e50c-176e142e1335"
      },
      "execution_count": 3,
      "outputs": [
        {
          "output_type": "stream",
          "name": "stdout",
          "text": [
            "[[0 'SAMSUNG Galaxy F13 (Waterfall Blue, 64 GB)'\n",
            "  'https://rukminim1.flixcart.com/image/312/312/xif0q/mobile/0/8/4/-original-imagfhu75eupxyft.jpeg?q=70'\n",
            "  ... '16.76 cm (6.6 inch) Full HD+ Display'\n",
            "  '6000 mAh Lithium Ion Battery' 'Exynos 850 Processor']\n",
            " [1 'SAMSUNG Galaxy F13 (Sunrise Copper, 64 GB)'\n",
            "  'https://rukminim1.flixcart.com/image/312/312/xif0q/mobile/x/x/s/-original-imagfhu6dcpdnqkh.jpeg?q=70'\n",
            "  ... '16.76 cm (6.6 inch) Full HD+ Display'\n",
            "  '6000 mAh Lithium Ion Battery' 'Exynos 850 Processor']\n",
            " [2 'itel it2163S'\n",
            "  'https://rukminim1.flixcart.com/image/312/312/l1mh7rk0/mobile/w/z/t/-original-imagd56fhcxs4a2z.jpeg?q=70'\n",
            "  ... '4.57 cm (1.8 inch) Quarter QVGA Display'\n",
            "  '7 Days Battery Backup with 1200mAh with Super Battery Mode'\n",
            "  '9 Indian Input Language Support']\n",
            " ...\n",
            " [1145 nan\n",
            "  'https://rukminim1.flixcart.com/image/300/300/kn3i1zk0/mobile/o/o/k/it5626-it5626-itel-original-imagfugg7hbhf86g.jpeg?q=90'\n",
            "  ... nan nan nan]\n",
            " [1146 nan\n",
            "  'https://rukminim1.flixcart.com/image/300/300/jyxaw7k0/mobile/a/j/h/kechaoda-k115-k115-original-imafgrt5xkzndbcn.jpeg?q=90'\n",
            "  ... nan nan nan]\n",
            " [1147 nan\n",
            "  'https://rukminim1.flixcart.com/image/300/300/xif0q/mobile/e/g/l/k9-punch-k9-punch-karbonn-original-imaghbxgs9vk8y5g.jpeg?q=90'\n",
            "  ... nan nan nan]]\n"
          ]
        }
      ]
    },
    {
      "cell_type": "code",
      "source": [
        "print(y)"
      ],
      "metadata": {
        "colab": {
          "base_uri": "https://localhost:8080/"
        },
        "id": "aIbLbEoAgd78",
        "outputId": "6b70a732-73c8-43a8-d7db-8262cf70caaf"
      },
      "execution_count": 4,
      "outputs": [
        {
          "output_type": "stream",
          "name": "stdout",
          "text": [
            "['1 Year Warranty Provided By the Manufacturer from Date of Purchase'\n",
            " '1 Year Warranty Provided By the Manufacturer from Date of Purchase'\n",
            " 'BT Caller, Kingtalker' ... nan nan nan]\n"
          ]
        }
      ]
    },
    {
      "cell_type": "code",
      "source": [
        "from sklearn.impute import SimpleImputer\n",
        "imputer = SimpleImputer(missing_values=np.nan, strategy='mean')\n",
        "imputer.fit(x[:, 1:3])\n",
        "x[:, 1:3] = imputer.transform(x[:, 1:3])"
      ],
      "metadata": {
        "colab": {
          "base_uri": "https://localhost:8080/",
          "height": 381
        },
        "id": "C49RhdN6gkAB",
        "outputId": "4d481d9d-89a1-4faa-f218-8064ad22044d"
      },
      "execution_count": 5,
      "outputs": [
        {
          "output_type": "error",
          "ename": "ValueError",
          "evalue": "ignored",
          "traceback": [
            "\u001b[0;31m---------------------------------------------------------------------------\u001b[0m",
            "\u001b[0;31mValueError\u001b[0m                                Traceback (most recent call last)",
            "\u001b[0;32m<ipython-input-5-29649d3f3f64>\u001b[0m in \u001b[0;36m<module>\u001b[0;34m\u001b[0m\n\u001b[1;32m      1\u001b[0m \u001b[0;32mfrom\u001b[0m \u001b[0msklearn\u001b[0m\u001b[0;34m.\u001b[0m\u001b[0mimpute\u001b[0m \u001b[0;32mimport\u001b[0m \u001b[0mSimpleImputer\u001b[0m\u001b[0;34m\u001b[0m\u001b[0;34m\u001b[0m\u001b[0m\n\u001b[1;32m      2\u001b[0m \u001b[0mimputer\u001b[0m \u001b[0;34m=\u001b[0m \u001b[0mSimpleImputer\u001b[0m\u001b[0;34m(\u001b[0m\u001b[0mmissing_values\u001b[0m\u001b[0;34m=\u001b[0m\u001b[0mnp\u001b[0m\u001b[0;34m.\u001b[0m\u001b[0mnan\u001b[0m\u001b[0;34m,\u001b[0m \u001b[0mstrategy\u001b[0m\u001b[0;34m=\u001b[0m\u001b[0;34m'mean'\u001b[0m\u001b[0;34m)\u001b[0m\u001b[0;34m\u001b[0m\u001b[0;34m\u001b[0m\u001b[0m\n\u001b[0;32m----> 3\u001b[0;31m \u001b[0mimputer\u001b[0m\u001b[0;34m.\u001b[0m\u001b[0mfit\u001b[0m\u001b[0;34m(\u001b[0m\u001b[0mx\u001b[0m\u001b[0;34m[\u001b[0m\u001b[0;34m:\u001b[0m\u001b[0;34m,\u001b[0m \u001b[0;36m1\u001b[0m\u001b[0;34m:\u001b[0m\u001b[0;36m3\u001b[0m\u001b[0;34m]\u001b[0m\u001b[0;34m)\u001b[0m\u001b[0;34m\u001b[0m\u001b[0;34m\u001b[0m\u001b[0m\n\u001b[0m\u001b[1;32m      4\u001b[0m \u001b[0mx\u001b[0m\u001b[0;34m[\u001b[0m\u001b[0;34m:\u001b[0m\u001b[0;34m,\u001b[0m \u001b[0;36m1\u001b[0m\u001b[0;34m:\u001b[0m\u001b[0;36m3\u001b[0m\u001b[0;34m]\u001b[0m \u001b[0;34m=\u001b[0m \u001b[0mimputer\u001b[0m\u001b[0;34m.\u001b[0m\u001b[0mtransform\u001b[0m\u001b[0;34m(\u001b[0m\u001b[0mx\u001b[0m\u001b[0;34m[\u001b[0m\u001b[0;34m:\u001b[0m\u001b[0;34m,\u001b[0m \u001b[0;36m1\u001b[0m\u001b[0;34m:\u001b[0m\u001b[0;36m3\u001b[0m\u001b[0;34m]\u001b[0m\u001b[0;34m)\u001b[0m\u001b[0;34m\u001b[0m\u001b[0;34m\u001b[0m\u001b[0m\n",
            "\u001b[0;32m/usr/local/lib/python3.9/dist-packages/sklearn/impute/_base.py\u001b[0m in \u001b[0;36mfit\u001b[0;34m(self, X, y)\u001b[0m\n\u001b[1;32m    388\u001b[0m             )\n\u001b[1;32m    389\u001b[0m \u001b[0;34m\u001b[0m\u001b[0m\n\u001b[0;32m--> 390\u001b[0;31m         \u001b[0mX\u001b[0m \u001b[0;34m=\u001b[0m \u001b[0mself\u001b[0m\u001b[0;34m.\u001b[0m\u001b[0m_validate_input\u001b[0m\u001b[0;34m(\u001b[0m\u001b[0mX\u001b[0m\u001b[0;34m,\u001b[0m \u001b[0min_fit\u001b[0m\u001b[0;34m=\u001b[0m\u001b[0;32mTrue\u001b[0m\u001b[0;34m)\u001b[0m\u001b[0;34m\u001b[0m\u001b[0;34m\u001b[0m\u001b[0m\n\u001b[0m\u001b[1;32m    391\u001b[0m \u001b[0;34m\u001b[0m\u001b[0m\n\u001b[1;32m    392\u001b[0m         \u001b[0;31m# default fill_value is 0 for numerical input and \"missing_value\"\u001b[0m\u001b[0;34m\u001b[0m\u001b[0;34m\u001b[0m\u001b[0m\n",
            "\u001b[0;32m/usr/local/lib/python3.9/dist-packages/sklearn/impute/_base.py\u001b[0m in \u001b[0;36m_validate_input\u001b[0;34m(self, X, in_fit)\u001b[0m\n\u001b[1;32m    340\u001b[0m                     )\n\u001b[1;32m    341\u001b[0m                 )\n\u001b[0;32m--> 342\u001b[0;31m                 \u001b[0;32mraise\u001b[0m \u001b[0mnew_ve\u001b[0m \u001b[0;32mfrom\u001b[0m \u001b[0;32mNone\u001b[0m\u001b[0;34m\u001b[0m\u001b[0;34m\u001b[0m\u001b[0m\n\u001b[0m\u001b[1;32m    343\u001b[0m             \u001b[0;32melse\u001b[0m\u001b[0;34m:\u001b[0m\u001b[0;34m\u001b[0m\u001b[0;34m\u001b[0m\u001b[0m\n\u001b[1;32m    344\u001b[0m                 \u001b[0;32mraise\u001b[0m \u001b[0mve\u001b[0m\u001b[0;34m\u001b[0m\u001b[0;34m\u001b[0m\u001b[0m\n",
            "\u001b[0;31mValueError\u001b[0m: Cannot use mean strategy with non-numeric data:\ncould not convert string to float: 'SAMSUNG Galaxy F13 (Waterfall Blue, 64 GB)'"
          ]
        }
      ]
    },
    {
      "cell_type": "code",
      "source": [
        "print(x)"
      ],
      "metadata": {
        "colab": {
          "base_uri": "https://localhost:8080/"
        },
        "id": "EMUuetlPgrHs",
        "outputId": "13e1f872-f617-4885-99fc-e4eb69480184"
      },
      "execution_count": 6,
      "outputs": [
        {
          "output_type": "stream",
          "name": "stdout",
          "text": [
            "[[0 'SAMSUNG Galaxy F13 (Waterfall Blue, 64 GB)'\n",
            "  'https://rukminim1.flixcart.com/image/312/312/xif0q/mobile/0/8/4/-original-imagfhu75eupxyft.jpeg?q=70'\n",
            "  ... '16.76 cm (6.6 inch) Full HD+ Display'\n",
            "  '6000 mAh Lithium Ion Battery' 'Exynos 850 Processor']\n",
            " [1 'SAMSUNG Galaxy F13 (Sunrise Copper, 64 GB)'\n",
            "  'https://rukminim1.flixcart.com/image/312/312/xif0q/mobile/x/x/s/-original-imagfhu6dcpdnqkh.jpeg?q=70'\n",
            "  ... '16.76 cm (6.6 inch) Full HD+ Display'\n",
            "  '6000 mAh Lithium Ion Battery' 'Exynos 850 Processor']\n",
            " [2 'itel it2163S'\n",
            "  'https://rukminim1.flixcart.com/image/312/312/l1mh7rk0/mobile/w/z/t/-original-imagd56fhcxs4a2z.jpeg?q=70'\n",
            "  ... '4.57 cm (1.8 inch) Quarter QVGA Display'\n",
            "  '7 Days Battery Backup with 1200mAh with Super Battery Mode'\n",
            "  '9 Indian Input Language Support']\n",
            " ...\n",
            " [1145 nan\n",
            "  'https://rukminim1.flixcart.com/image/300/300/kn3i1zk0/mobile/o/o/k/it5626-it5626-itel-original-imagfugg7hbhf86g.jpeg?q=90'\n",
            "  ... nan nan nan]\n",
            " [1146 nan\n",
            "  'https://rukminim1.flixcart.com/image/300/300/jyxaw7k0/mobile/a/j/h/kechaoda-k115-k115-original-imafgrt5xkzndbcn.jpeg?q=90'\n",
            "  ... nan nan nan]\n",
            " [1147 nan\n",
            "  'https://rukminim1.flixcart.com/image/300/300/xif0q/mobile/e/g/l/k9-punch-k9-punch-karbonn-original-imaghbxgs9vk8y5g.jpeg?q=90'\n",
            "  ... nan nan nan]]\n"
          ]
        }
      ]
    },
    {
      "cell_type": "code",
      "source": [
        "from sklearn.compose import ColumnTransformer\n",
        "from sklearn.preprocessing import OneHotEncoder\n",
        "ct = ColumnTransformer(transformers=[('encoder', OneHotEncoder(), [0])], remainder='passthrough')\n",
        "x = np.array(ct.fit_transform(x))"
      ],
      "metadata": {
        "colab": {
          "base_uri": "https://localhost:8080/",
          "height": 433
        },
        "id": "N7fEaJ6Sg-u2",
        "outputId": "0290d8a8-a306-406b-ddb7-4575ec6fa405"
      },
      "execution_count": 7,
      "outputs": [
        {
          "output_type": "error",
          "ename": "ValueError",
          "evalue": "ignored",
          "traceback": [
            "\u001b[0;31m---------------------------------------------------------------------------\u001b[0m",
            "\u001b[0;31mValueError\u001b[0m                                Traceback (most recent call last)",
            "\u001b[0;32m/usr/local/lib/python3.9/dist-packages/sklearn/compose/_column_transformer.py\u001b[0m in \u001b[0;36m_hstack\u001b[0;34m(self, Xs)\u001b[0m\n\u001b[1;32m    829\u001b[0m                 \u001b[0;31m# dtype conversion if necessary.\u001b[0m\u001b[0;34m\u001b[0m\u001b[0;34m\u001b[0m\u001b[0m\n\u001b[0;32m--> 830\u001b[0;31m                 converted_Xs = [\n\u001b[0m\u001b[1;32m    831\u001b[0m                     \u001b[0mcheck_array\u001b[0m\u001b[0;34m(\u001b[0m\u001b[0mX\u001b[0m\u001b[0;34m,\u001b[0m \u001b[0maccept_sparse\u001b[0m\u001b[0;34m=\u001b[0m\u001b[0;32mTrue\u001b[0m\u001b[0;34m,\u001b[0m \u001b[0mforce_all_finite\u001b[0m\u001b[0;34m=\u001b[0m\u001b[0;32mFalse\u001b[0m\u001b[0;34m)\u001b[0m\u001b[0;34m\u001b[0m\u001b[0;34m\u001b[0m\u001b[0m\n",
            "\u001b[0;32m/usr/local/lib/python3.9/dist-packages/sklearn/compose/_column_transformer.py\u001b[0m in \u001b[0;36m<listcomp>\u001b[0;34m(.0)\u001b[0m\n\u001b[1;32m    830\u001b[0m                 converted_Xs = [\n\u001b[0;32m--> 831\u001b[0;31m                     \u001b[0mcheck_array\u001b[0m\u001b[0;34m(\u001b[0m\u001b[0mX\u001b[0m\u001b[0;34m,\u001b[0m \u001b[0maccept_sparse\u001b[0m\u001b[0;34m=\u001b[0m\u001b[0;32mTrue\u001b[0m\u001b[0;34m,\u001b[0m \u001b[0mforce_all_finite\u001b[0m\u001b[0;34m=\u001b[0m\u001b[0;32mFalse\u001b[0m\u001b[0;34m)\u001b[0m\u001b[0;34m\u001b[0m\u001b[0;34m\u001b[0m\u001b[0m\n\u001b[0m\u001b[1;32m    832\u001b[0m                     \u001b[0;32mfor\u001b[0m \u001b[0mX\u001b[0m \u001b[0;32min\u001b[0m \u001b[0mXs\u001b[0m\u001b[0;34m\u001b[0m\u001b[0;34m\u001b[0m\u001b[0m\n",
            "\u001b[0;32m/usr/local/lib/python3.9/dist-packages/sklearn/utils/validation.py\u001b[0m in \u001b[0;36mcheck_array\u001b[0;34m(array, accept_sparse, accept_large_sparse, dtype, order, copy, force_all_finite, ensure_2d, allow_nd, ensure_min_samples, ensure_min_features, estimator, input_name)\u001b[0m\n\u001b[1;32m    878\u001b[0m                 \u001b[0;32melse\u001b[0m\u001b[0;34m:\u001b[0m\u001b[0;34m\u001b[0m\u001b[0;34m\u001b[0m\u001b[0m\n\u001b[0;32m--> 879\u001b[0;31m                     \u001b[0marray\u001b[0m \u001b[0;34m=\u001b[0m \u001b[0m_asarray_with_order\u001b[0m\u001b[0;34m(\u001b[0m\u001b[0marray\u001b[0m\u001b[0;34m,\u001b[0m \u001b[0morder\u001b[0m\u001b[0;34m=\u001b[0m\u001b[0morder\u001b[0m\u001b[0;34m,\u001b[0m \u001b[0mdtype\u001b[0m\u001b[0;34m=\u001b[0m\u001b[0mdtype\u001b[0m\u001b[0;34m,\u001b[0m \u001b[0mxp\u001b[0m\u001b[0;34m=\u001b[0m\u001b[0mxp\u001b[0m\u001b[0;34m)\u001b[0m\u001b[0;34m\u001b[0m\u001b[0;34m\u001b[0m\u001b[0m\n\u001b[0m\u001b[1;32m    880\u001b[0m             \u001b[0;32mexcept\u001b[0m \u001b[0mComplexWarning\u001b[0m \u001b[0;32mas\u001b[0m \u001b[0mcomplex_warning\u001b[0m\u001b[0;34m:\u001b[0m\u001b[0;34m\u001b[0m\u001b[0;34m\u001b[0m\u001b[0m\n",
            "\u001b[0;32m/usr/local/lib/python3.9/dist-packages/sklearn/utils/_array_api.py\u001b[0m in \u001b[0;36m_asarray_with_order\u001b[0;34m(array, dtype, order, copy, xp)\u001b[0m\n\u001b[1;32m    184\u001b[0m         \u001b[0;31m# Use NumPy API to support order\u001b[0m\u001b[0;34m\u001b[0m\u001b[0;34m\u001b[0m\u001b[0m\n\u001b[0;32m--> 185\u001b[0;31m         \u001b[0marray\u001b[0m \u001b[0;34m=\u001b[0m \u001b[0mnumpy\u001b[0m\u001b[0;34m.\u001b[0m\u001b[0masarray\u001b[0m\u001b[0;34m(\u001b[0m\u001b[0marray\u001b[0m\u001b[0;34m,\u001b[0m \u001b[0morder\u001b[0m\u001b[0;34m=\u001b[0m\u001b[0morder\u001b[0m\u001b[0;34m,\u001b[0m \u001b[0mdtype\u001b[0m\u001b[0;34m=\u001b[0m\u001b[0mdtype\u001b[0m\u001b[0;34m)\u001b[0m\u001b[0;34m\u001b[0m\u001b[0;34m\u001b[0m\u001b[0m\n\u001b[0m\u001b[1;32m    186\u001b[0m         \u001b[0;32mreturn\u001b[0m \u001b[0mxp\u001b[0m\u001b[0;34m.\u001b[0m\u001b[0masarray\u001b[0m\u001b[0;34m(\u001b[0m\u001b[0marray\u001b[0m\u001b[0;34m,\u001b[0m \u001b[0mcopy\u001b[0m\u001b[0;34m=\u001b[0m\u001b[0mcopy\u001b[0m\u001b[0;34m)\u001b[0m\u001b[0;34m\u001b[0m\u001b[0;34m\u001b[0m\u001b[0m\n",
            "\u001b[0;31mValueError\u001b[0m: could not convert string to float: 'SAMSUNG Galaxy F13 (Waterfall Blue, 64 GB)'",
            "\nThe above exception was the direct cause of the following exception:\n",
            "\u001b[0;31mValueError\u001b[0m                                Traceback (most recent call last)",
            "\u001b[0;32m<ipython-input-7-38ceef12a7c0>\u001b[0m in \u001b[0;36m<module>\u001b[0;34m\u001b[0m\n\u001b[1;32m      2\u001b[0m \u001b[0;32mfrom\u001b[0m \u001b[0msklearn\u001b[0m\u001b[0;34m.\u001b[0m\u001b[0mpreprocessing\u001b[0m \u001b[0;32mimport\u001b[0m \u001b[0mOneHotEncoder\u001b[0m\u001b[0;34m\u001b[0m\u001b[0;34m\u001b[0m\u001b[0m\n\u001b[1;32m      3\u001b[0m \u001b[0mct\u001b[0m \u001b[0;34m=\u001b[0m \u001b[0mColumnTransformer\u001b[0m\u001b[0;34m(\u001b[0m\u001b[0mtransformers\u001b[0m\u001b[0;34m=\u001b[0m\u001b[0;34m[\u001b[0m\u001b[0;34m(\u001b[0m\u001b[0;34m'encoder'\u001b[0m\u001b[0;34m,\u001b[0m \u001b[0mOneHotEncoder\u001b[0m\u001b[0;34m(\u001b[0m\u001b[0;34m)\u001b[0m\u001b[0;34m,\u001b[0m \u001b[0;34m[\u001b[0m\u001b[0;36m0\u001b[0m\u001b[0;34m]\u001b[0m\u001b[0;34m)\u001b[0m\u001b[0;34m]\u001b[0m\u001b[0;34m,\u001b[0m \u001b[0mremainder\u001b[0m\u001b[0;34m=\u001b[0m\u001b[0;34m'passthrough'\u001b[0m\u001b[0;34m)\u001b[0m\u001b[0;34m\u001b[0m\u001b[0;34m\u001b[0m\u001b[0m\n\u001b[0;32m----> 4\u001b[0;31m \u001b[0mx\u001b[0m \u001b[0;34m=\u001b[0m \u001b[0mnp\u001b[0m\u001b[0;34m.\u001b[0m\u001b[0marray\u001b[0m\u001b[0;34m(\u001b[0m\u001b[0mct\u001b[0m\u001b[0;34m.\u001b[0m\u001b[0mfit_transform\u001b[0m\u001b[0;34m(\u001b[0m\u001b[0mx\u001b[0m\u001b[0;34m)\u001b[0m\u001b[0;34m)\u001b[0m\u001b[0;34m\u001b[0m\u001b[0;34m\u001b[0m\u001b[0m\n\u001b[0m",
            "\u001b[0;32m/usr/local/lib/python3.9/dist-packages/sklearn/utils/_set_output.py\u001b[0m in \u001b[0;36mwrapped\u001b[0;34m(self, X, *args, **kwargs)\u001b[0m\n\u001b[1;32m    138\u001b[0m     \u001b[0;34m@\u001b[0m\u001b[0mwraps\u001b[0m\u001b[0;34m(\u001b[0m\u001b[0mf\u001b[0m\u001b[0;34m)\u001b[0m\u001b[0;34m\u001b[0m\u001b[0;34m\u001b[0m\u001b[0m\n\u001b[1;32m    139\u001b[0m     \u001b[0;32mdef\u001b[0m \u001b[0mwrapped\u001b[0m\u001b[0;34m(\u001b[0m\u001b[0mself\u001b[0m\u001b[0;34m,\u001b[0m \u001b[0mX\u001b[0m\u001b[0;34m,\u001b[0m \u001b[0;34m*\u001b[0m\u001b[0margs\u001b[0m\u001b[0;34m,\u001b[0m \u001b[0;34m**\u001b[0m\u001b[0mkwargs\u001b[0m\u001b[0;34m)\u001b[0m\u001b[0;34m:\u001b[0m\u001b[0;34m\u001b[0m\u001b[0;34m\u001b[0m\u001b[0m\n\u001b[0;32m--> 140\u001b[0;31m         \u001b[0mdata_to_wrap\u001b[0m \u001b[0;34m=\u001b[0m \u001b[0mf\u001b[0m\u001b[0;34m(\u001b[0m\u001b[0mself\u001b[0m\u001b[0;34m,\u001b[0m \u001b[0mX\u001b[0m\u001b[0;34m,\u001b[0m \u001b[0;34m*\u001b[0m\u001b[0margs\u001b[0m\u001b[0;34m,\u001b[0m \u001b[0;34m**\u001b[0m\u001b[0mkwargs\u001b[0m\u001b[0;34m)\u001b[0m\u001b[0;34m\u001b[0m\u001b[0;34m\u001b[0m\u001b[0m\n\u001b[0m\u001b[1;32m    141\u001b[0m         \u001b[0;32mif\u001b[0m \u001b[0misinstance\u001b[0m\u001b[0;34m(\u001b[0m\u001b[0mdata_to_wrap\u001b[0m\u001b[0;34m,\u001b[0m \u001b[0mtuple\u001b[0m\u001b[0;34m)\u001b[0m\u001b[0;34m:\u001b[0m\u001b[0;34m\u001b[0m\u001b[0;34m\u001b[0m\u001b[0m\n\u001b[1;32m    142\u001b[0m             \u001b[0;31m# only wrap the first output for cross decomposition\u001b[0m\u001b[0;34m\u001b[0m\u001b[0;34m\u001b[0m\u001b[0m\n",
            "\u001b[0;32m/usr/local/lib/python3.9/dist-packages/sklearn/compose/_column_transformer.py\u001b[0m in \u001b[0;36mfit_transform\u001b[0;34m(self, X, y)\u001b[0m\n\u001b[1;32m    749\u001b[0m         \u001b[0mself\u001b[0m\u001b[0;34m.\u001b[0m\u001b[0m_record_output_indices\u001b[0m\u001b[0;34m(\u001b[0m\u001b[0mXs\u001b[0m\u001b[0;34m)\u001b[0m\u001b[0;34m\u001b[0m\u001b[0;34m\u001b[0m\u001b[0m\n\u001b[1;32m    750\u001b[0m \u001b[0;34m\u001b[0m\u001b[0m\n\u001b[0;32m--> 751\u001b[0;31m         \u001b[0;32mreturn\u001b[0m \u001b[0mself\u001b[0m\u001b[0;34m.\u001b[0m\u001b[0m_hstack\u001b[0m\u001b[0;34m(\u001b[0m\u001b[0mlist\u001b[0m\u001b[0;34m(\u001b[0m\u001b[0mXs\u001b[0m\u001b[0;34m)\u001b[0m\u001b[0;34m)\u001b[0m\u001b[0;34m\u001b[0m\u001b[0;34m\u001b[0m\u001b[0m\n\u001b[0m\u001b[1;32m    752\u001b[0m \u001b[0;34m\u001b[0m\u001b[0m\n\u001b[1;32m    753\u001b[0m     \u001b[0;32mdef\u001b[0m \u001b[0mtransform\u001b[0m\u001b[0;34m(\u001b[0m\u001b[0mself\u001b[0m\u001b[0;34m,\u001b[0m \u001b[0mX\u001b[0m\u001b[0;34m)\u001b[0m\u001b[0;34m:\u001b[0m\u001b[0;34m\u001b[0m\u001b[0;34m\u001b[0m\u001b[0m\n",
            "\u001b[0;32m/usr/local/lib/python3.9/dist-packages/sklearn/compose/_column_transformer.py\u001b[0m in \u001b[0;36m_hstack\u001b[0;34m(self, Xs)\u001b[0m\n\u001b[1;32m    833\u001b[0m                 ]\n\u001b[1;32m    834\u001b[0m             \u001b[0;32mexcept\u001b[0m \u001b[0mValueError\u001b[0m \u001b[0;32mas\u001b[0m \u001b[0me\u001b[0m\u001b[0;34m:\u001b[0m\u001b[0;34m\u001b[0m\u001b[0;34m\u001b[0m\u001b[0m\n\u001b[0;32m--> 835\u001b[0;31m                 raise ValueError(\n\u001b[0m\u001b[1;32m    836\u001b[0m                     \u001b[0;34m\"For a sparse output, all columns should \"\u001b[0m\u001b[0;34m\u001b[0m\u001b[0;34m\u001b[0m\u001b[0m\n\u001b[1;32m    837\u001b[0m                     \u001b[0;34m\"be a numeric or convertible to a numeric.\"\u001b[0m\u001b[0;34m\u001b[0m\u001b[0;34m\u001b[0m\u001b[0m\n",
            "\u001b[0;31mValueError\u001b[0m: For a sparse output, all columns should be a numeric or convertible to a numeric."
          ]
        }
      ]
    },
    {
      "cell_type": "code",
      "source": [
        "print(x)"
      ],
      "metadata": {
        "colab": {
          "base_uri": "https://localhost:8080/"
        },
        "id": "NjP7nOOThGxp",
        "outputId": "6306f296-64e3-4604-f325-06d06f8cc3c1"
      },
      "execution_count": 8,
      "outputs": [
        {
          "output_type": "stream",
          "name": "stdout",
          "text": [
            "[[0 'SAMSUNG Galaxy F13 (Waterfall Blue, 64 GB)'\n",
            "  'https://rukminim1.flixcart.com/image/312/312/xif0q/mobile/0/8/4/-original-imagfhu75eupxyft.jpeg?q=70'\n",
            "  ... '16.76 cm (6.6 inch) Full HD+ Display'\n",
            "  '6000 mAh Lithium Ion Battery' 'Exynos 850 Processor']\n",
            " [1 'SAMSUNG Galaxy F13 (Sunrise Copper, 64 GB)'\n",
            "  'https://rukminim1.flixcart.com/image/312/312/xif0q/mobile/x/x/s/-original-imagfhu6dcpdnqkh.jpeg?q=70'\n",
            "  ... '16.76 cm (6.6 inch) Full HD+ Display'\n",
            "  '6000 mAh Lithium Ion Battery' 'Exynos 850 Processor']\n",
            " [2 'itel it2163S'\n",
            "  'https://rukminim1.flixcart.com/image/312/312/l1mh7rk0/mobile/w/z/t/-original-imagd56fhcxs4a2z.jpeg?q=70'\n",
            "  ... '4.57 cm (1.8 inch) Quarter QVGA Display'\n",
            "  '7 Days Battery Backup with 1200mAh with Super Battery Mode'\n",
            "  '9 Indian Input Language Support']\n",
            " ...\n",
            " [1145 nan\n",
            "  'https://rukminim1.flixcart.com/image/300/300/kn3i1zk0/mobile/o/o/k/it5626-it5626-itel-original-imagfugg7hbhf86g.jpeg?q=90'\n",
            "  ... nan nan nan]\n",
            " [1146 nan\n",
            "  'https://rukminim1.flixcart.com/image/300/300/jyxaw7k0/mobile/a/j/h/kechaoda-k115-k115-original-imafgrt5xkzndbcn.jpeg?q=90'\n",
            "  ... nan nan nan]\n",
            " [1147 nan\n",
            "  'https://rukminim1.flixcart.com/image/300/300/xif0q/mobile/e/g/l/k9-punch-k9-punch-karbonn-original-imaghbxgs9vk8y5g.jpeg?q=90'\n",
            "  ... nan nan nan]]\n"
          ]
        }
      ]
    },
    {
      "cell_type": "code",
      "source": [
        "from sklearn.preprocessing import LabelEncoder\n",
        "le = LabelEncoder()\n",
        "y = le.fit_transform(y)"
      ],
      "metadata": {
        "id": "zyVa9sCbhNC6"
      },
      "execution_count": 9,
      "outputs": []
    },
    {
      "cell_type": "code",
      "source": [
        "print(y)"
      ],
      "metadata": {
        "colab": {
          "base_uri": "https://localhost:8080/"
        },
        "id": "zgldjnYahQBi",
        "outputId": "57c0de1c-7547-4536-f1e0-e975cab590bc"
      },
      "execution_count": 10,
      "outputs": [
        {
          "output_type": "stream",
          "name": "stdout",
          "text": [
            "[26 26 70 ... 84 84 84]\n"
          ]
        }
      ]
    },
    {
      "cell_type": "code",
      "source": [
        "from sklearn.model_selection import train_test_split\n",
        "x_train, x_test, y_train, y_test = train_test_split(x, y, test_size=0.2, random_state=1)"
      ],
      "metadata": {
        "id": "EJ0DBcrEhWVh"
      },
      "execution_count": 11,
      "outputs": []
    },
    {
      "cell_type": "code",
      "source": [
        "print(x_train)"
      ],
      "metadata": {
        "colab": {
          "base_uri": "https://localhost:8080/"
        },
        "id": "Du_o2ljQhdQi",
        "outputId": "2abae515-7226-4af1-b42a-31e1b79bf46d"
      },
      "execution_count": 12,
      "outputs": [
        {
          "output_type": "stream",
          "name": "stdout",
          "text": [
            "[[191 nan\n",
            "  'https://rukminim1.flixcart.com/image/300/300/l1qrjbk0/mobile/t/e/j/-original-imagd8pyehxtp4yg.jpeg?q=90'\n",
            "  ... nan nan nan]\n",
            " [314 'itel IT5626'\n",
            "  'https://rukminim1.flixcart.com/image/312/312/kn3i1zk0/mobile/o/o/k/it5626-it5626-itel-original-imagfugg7hbhf86g.jpeg?q=70'\n",
            "  ... '7.11 cm (2.8 inch) QVGA Display' '2500 mAh Lithium ion Battery'\n",
            "  'SC6531C Processor']\n",
            " [350 'SAMSUNG Galaxy F23 5G (Copper Blush, 128 GB)'\n",
            "  'https://rukminim1.flixcart.com/image/312/312/xif0q/mobile/f/c/v/-original-imagehzbaw2wugme.jpeg?q=70'\n",
            "  ... '16.76 cm (6.6 inch) Full HD+ Display'\n",
            "  '5000 mAh Lithium Ion Battery' 'Qualcomm Snapdragon 750G Processor']\n",
            " ...\n",
            " [1096 'Kechaoda K10'\n",
            "  'https://rukminim1.flixcart.com/image/312/312/ji0lbbk0/mobile/n/g/q/kechaoda-k10-k10-original-imaf5wgqnbvjzmzf.jpeg?q=70'\n",
            "  ... '1.68 cm (0.66 inch) NA Display' '1 Year Manufacturer Warranty' nan]\n",
            " [235 'APPLE iPhone 11 (White, 64 GB)'\n",
            "  'https://rukminim1.flixcart.com/image/312/312/k2jbyq80pkrrdj/mobile-refurbished/k/y/d/iphone-11-256-u-mwm82hn-a-apple-0-original-imafkg25mhaztxns.jpeg?q=70'\n",
            "  ... '15.49 cm (6.1 inch) Liquid Retina HD Display'\n",
            "  'A13 Bionic Chip Processor' 'Brand Warranty of 1 Year']\n",
            " [1061 nan\n",
            "  'https://rukminim1.flixcart.com/image/300/300/kn3i1zk0/mobile/o/o/k/it5626-it5626-itel-original-imagfugg7hbhf86g.jpeg?q=90'\n",
            "  ... nan nan nan]]\n"
          ]
        }
      ]
    },
    {
      "cell_type": "code",
      "source": [
        "print(x_test)"
      ],
      "metadata": {
        "colab": {
          "base_uri": "https://localhost:8080/"
        },
        "id": "TGXheFzIhiGx",
        "outputId": "87b14616-26d4-416c-bd21-ef72552dcfb4"
      },
      "execution_count": 13,
      "outputs": [
        {
          "output_type": "stream",
          "name": "stdout",
          "text": [
            "[[491 'vivo Y100 5G (Twilight Gold, 128 GB)'\n",
            "  'https://rukminim1.flixcart.com/image/312/312/xif0q/mobile/n/d/4/-original-imagmvgcnpanjhdx.jpeg?q=70'\n",
            "  ... '16.21 cm (6.38 inch) Full HD+ AMOLED Display' '4500 mAh Battery'\n",
            "  'Mediatek Dimensity 900 Processor']\n",
            " [325 'realme C11 2021 (Cool Blue, 64 GB)'\n",
            "  'https://rukminim1.flixcart.com/image/312/312/kqjtd3k0/mobile/o/4/x/c11-2021-rmx3231-realme-original-imag4j4yrdt7d9cj.jpeg?q=70'\n",
            "  ... '16.51 cm (6.5 inch) HD+ Display' '5000 mAh Battery'\n",
            "  'Octa-core Processor']\n",
            " [446 nan\n",
            "  'https://rukminim1.flixcart.com/image/300/300/xif0q/mobile/p/u/o/-original-imagjdmzxtnvr4rz.jpeg?q=90'\n",
            "  ... nan nan nan]\n",
            " ...\n",
            " [553 'MOTOROLA Edge 30 Pro (Cosmos Blue, 128 GB)'\n",
            "  'https://rukminim1.flixcart.com/image/312/312/kzzw5u80/mobile/k/n/c/-original-imagbvp7eha43hjx.jpeg?q=70'\n",
            "  ... '17.02 cm (6.7 inch) Full HD+ AMOLED Display'\n",
            "  '4800 mAh Lithium Polymer Battery'\n",
            "  'Qualcomm Snapdragon 8 Gen 1 Processor']\n",
            " [796 'Micromax X809'\n",
            "  'https://rukminim1.flixcart.com/image/312/312/k0lbdzk0pkrrdj/mobile/7/v/f/micromax-x809-x809-original-imafjsfjgynt3u9z.jpeg?q=70'\n",
            "  ... '7.11 cm (2.8 inch) Display' '1000 mAh Battery' '1 Year Warranty']\n",
            " [180 'SAMSUNG GALAXY M13 (Midnight Blue, 64 GB)'\n",
            "  'https://rukminim1.flixcart.com/image/312/312/xif0q/mobile/n/r/8/-original-imagghcfsdbuemmd.jpeg?q=70'\n",
            "  ... '16.76 cm (6.6 inch) Display' '6000 mAh Battery'\n",
            "  '12 Months Warranty']]\n"
          ]
        }
      ]
    },
    {
      "cell_type": "code",
      "source": [
        "print(y_train)"
      ],
      "metadata": {
        "colab": {
          "base_uri": "https://localhost:8080/"
        },
        "id": "vppGX5sFhoht",
        "outputId": "9593a25a-be66-4e97-e09a-197fef483912"
      },
      "execution_count": 14,
      "outputs": [
        {
          "output_type": "stream",
          "name": "stdout",
          "text": [
            "[84 52 28 84 84 84 70 10 84 63 84 11 21 33 79 84 43 84 31 70 79 84 84 84\n",
            " 70 84 32 84 13 84 84 84 23 52 13 18 21 84 84  6 70 84 22 33 84 70 13 54\n",
            " 84 84 22 84 84 26 84 22 30 84 20 45 84 21 70 84 84 11 43 45 84 36 70 45\n",
            " 22 84 84 38 45 84 84 84 33 31 84 32 84 22 84 84 84 84 84 22 84 84 33 16\n",
            " 84 84 84 84 71 63 84 27 21 73 15 84 84 51 21 25 33 63 84 43 16 22 72 45\n",
            " 45 23 84 71 52 21 22 84 84 84 80 28 84 84 20 49 84 10 77 84 28  2 32 84\n",
            " 59 57 84  2 84 84 76 45 84 84 84 84 84 84 84 84 84 45 84 45 40 22 45 84\n",
            " 84  9 70 84 84 45 84 52 84 84 70 84 84 84 33 84 84 84 84 84 84 84 84 22\n",
            " 21 70 84 84 84 84 84 31 18 84 84 84 21 84 84 84 31 52 79 84 84 70 33 52\n",
            " 33 84 84  4 84 84 84 84 33 84 21 84 70  4 84 84 84 84 84 84 32 31 84  7\n",
            " 84 84 21 84 45 52 84 84 84 70 22 84  4 84 41 78  6 62 84 84 84 84 72 84\n",
            " 84 84 33 84 40 84 84 45 52 84 84 84 28 84 84 84 11 33 84 84 33 84 84  1\n",
            " 22 84 84 43 84 70 26 84 52 11 33 45 47 21 84 22  4 23 84 52 52 84 84 23\n",
            " 20 45 45 70 38 70 45 84 65 84 33  2 84 45  6 23 45 84 84 45 84 84 52 52\n",
            " 84 33 23  7 20 84 33 84 84 52 84 84 29 37 33 70 84 45 72 84 45 84 11 46\n",
            " 79 84 45 84 32 70 29 45 13 84  5 84 84 84 45 84 84 45 84 22 84 84 21 33\n",
            " 84 84 33 84 79 29 32 84 73 11 84 21 84 21 45 84 84 11 45 84 45 22 84 36\n",
            " 84 70 84 52 84 33 84 44 32 45 84 22 84 45 84 70 79 52 13 84  0 45  8 84\n",
            " 84 68 70 84 23 82 52 84 84 84 84 70 45 72 45 70 26 20 84 52  9 84  7 84\n",
            " 45 12 84 70 43 23 84 14 11 78 84 84 22 84 22 84 84 22 70 45 84 84 84 52\n",
            " 84 82 84  4 84 84 84 84 84 71 43 84 84 84 45 84 56 45 22 84 21 84 84 84\n",
            " 17 45 84 45 84 52 84 22 17 33 84 84 84 84 84 84 84 32 84 84 84 45 84 84\n",
            " 33 77 22 84 79 31 84 84 84 84 84 70 22 79 79 84 71 84 84 42  0 24 45 84\n",
            " 50 70 22 84 84 32 84 45 70 22 29  0 45 14  4 84 84 40 84 70 30 33 84 32\n",
            " 45 19 84 13 23 79 84 45 84 84 52 84 21 84 84 84 84 84 33 84 11 45 82 79\n",
            " 28 70 84 84 70 26 84 84 39 45 84 84 84 79 84 70 84 84 84 73 84 76 84 45\n",
            " 84 84  4 45 52 84 84 84 84 11 84 22 84 84 84 84 22 67 84 21 69 84 52 71\n",
            " 16 84 33 84 52 84 84 84 45 84 22 84 81 84 84 68 33 84 33 84 52 48  4 84\n",
            "  4 21 20 22 52 84 84 28 84 40 11 84 84 22 84 84 33 84 84 79 84 66 32 84\n",
            " 84 84 84 33 84 32 45 33 39 84 84 79 84 84 84  4 84 84 70 55 40 22 29 84\n",
            " 84 84 84 84 84 22 84 70 84 62 84 84 84 51 84 84 13 45 84 45 84 45 84 84\n",
            " 45 11 84  0 84 11 28 84 84 84 84 84 45 45 84 84 84 84 45 84 79 35 72 84\n",
            " 10 45 84 84 23  4 84 45 84 71 84 84 45 84 84 33 84  3 84 45  7 84 84 36\n",
            " 84 84 33 45 84 84 44 84 70 57 84 84 84 73 84 22 32 84 23 59 11 84 45 84\n",
            " 31 45 70 84 45 45 76 52  4 84 45 84 33 84 14 36 84 84 84 28 10 84 84 84\n",
            " 66 45 26 60 28 84 84 72 84  4 84 84 84 43 84 76 84 84 21 84 22 84 45 23\n",
            " 22 13 22 84 84 84 84 84 79 21 37 45 45 33 84 21 84 21 84 31 84 45 84 84\n",
            " 45 22 84  2 45 84  4 45 84 84 13 70 52 84 34 11 84 45 79 84 22 21 33 84\n",
            " 84  8 84 84 84 84]\n"
          ]
        }
      ]
    },
    {
      "cell_type": "code",
      "source": [
        "print(y_test)"
      ],
      "metadata": {
        "colab": {
          "base_uri": "https://localhost:8080/"
        },
        "id": "5NLeYeZYh2q0",
        "outputId": "8e423bb3-8aff-44d7-8a10-33f8d6aba0ca"
      },
      "execution_count": 15,
      "outputs": [
        {
          "output_type": "stream",
          "name": "stdout",
          "text": [
            "[19 32 84 84 84 21 22 45 84 84 84 84  5 32 84 45 32 18 76 84 84 52 84 33\n",
            " 33 84 22 84 84 84 45 84 45 40 84 52 84 67 84 84 45 33 22 84 75 84 45 59\n",
            " 70 70 70 33 84 84 84 52 84 84 45 33 22 45 70 22 15 84 84 45 84 65 84 84\n",
            " 59 22 45  2 71 14 58 79  3 75 69 79 84 84 79 84 84 23 33 84 73 84 13 84\n",
            " 45 52 70 84 33 74 33 45 84 32 84 78 84 84 11 84 84 64 16 84 84 84 84 84\n",
            " 21 11  1 33 84 84 61  2 84 84 84 45 22 22 52 84 84 45 84 78 78 13 10 52\n",
            " 84 22 84 45 84 23 84 79 84 50 20 52 21 22 45 33 53 22 84 84 84 84 33 84\n",
            " 47 45 84 14 52 83 84 45 52 28 84 84 52 21 84 20 84 54 49 84 45 84 23 77\n",
            " 45 72 16 84 52 84 84 84 84 28 84 45 45 51 52 84 84 84 45 84 84 10 45 84\n",
            " 45 84 84 73 52 33 11 84  2 32 32 45 84 84]\n"
          ]
        }
      ]
    },
    {
      "cell_type": "code",
      "source": [
        "from sklearn.preprocessing import StandardScaler\n",
        "sc = StandardScaler()\n",
        "x_train[:, 3:] = sc.fit_transform(x_train[:, 3:])\n",
        "x_test[:, 3:] = sc.transform(x_test[:, 3:])"
      ],
      "metadata": {
        "colab": {
          "base_uri": "https://localhost:8080/",
          "height": 381
        },
        "id": "RT36cy6ph-Jv",
        "outputId": "f5e69025-e6e7-4ba4-9649-31ac4db0d60a"
      },
      "execution_count": 16,
      "outputs": [
        {
          "output_type": "error",
          "ename": "ValueError",
          "evalue": "ignored",
          "traceback": [
            "\u001b[0;31m---------------------------------------------------------------------------\u001b[0m",
            "\u001b[0;31mValueError\u001b[0m                                Traceback (most recent call last)",
            "\u001b[0;32m<ipython-input-16-518b13f07a99>\u001b[0m in \u001b[0;36m<module>\u001b[0;34m\u001b[0m\n\u001b[1;32m      1\u001b[0m \u001b[0;32mfrom\u001b[0m \u001b[0msklearn\u001b[0m\u001b[0;34m.\u001b[0m\u001b[0mpreprocessing\u001b[0m \u001b[0;32mimport\u001b[0m \u001b[0mStandardScaler\u001b[0m\u001b[0;34m\u001b[0m\u001b[0;34m\u001b[0m\u001b[0m\n\u001b[1;32m      2\u001b[0m \u001b[0msc\u001b[0m \u001b[0;34m=\u001b[0m \u001b[0mStandardScaler\u001b[0m\u001b[0;34m(\u001b[0m\u001b[0;34m)\u001b[0m\u001b[0;34m\u001b[0m\u001b[0;34m\u001b[0m\u001b[0m\n\u001b[0;32m----> 3\u001b[0;31m \u001b[0mx_train\u001b[0m\u001b[0;34m[\u001b[0m\u001b[0;34m:\u001b[0m\u001b[0;34m,\u001b[0m \u001b[0;36m3\u001b[0m\u001b[0;34m:\u001b[0m\u001b[0;34m]\u001b[0m \u001b[0;34m=\u001b[0m \u001b[0msc\u001b[0m\u001b[0;34m.\u001b[0m\u001b[0mfit_transform\u001b[0m\u001b[0;34m(\u001b[0m\u001b[0mx_train\u001b[0m\u001b[0;34m[\u001b[0m\u001b[0;34m:\u001b[0m\u001b[0;34m,\u001b[0m \u001b[0;36m3\u001b[0m\u001b[0;34m:\u001b[0m\u001b[0;34m]\u001b[0m\u001b[0;34m)\u001b[0m\u001b[0;34m\u001b[0m\u001b[0;34m\u001b[0m\u001b[0m\n\u001b[0m\u001b[1;32m      4\u001b[0m \u001b[0mx_test\u001b[0m\u001b[0;34m[\u001b[0m\u001b[0;34m:\u001b[0m\u001b[0;34m,\u001b[0m \u001b[0;36m3\u001b[0m\u001b[0;34m:\u001b[0m\u001b[0;34m]\u001b[0m \u001b[0;34m=\u001b[0m \u001b[0msc\u001b[0m\u001b[0;34m.\u001b[0m\u001b[0mtransform\u001b[0m\u001b[0;34m(\u001b[0m\u001b[0mx_test\u001b[0m\u001b[0;34m[\u001b[0m\u001b[0;34m:\u001b[0m\u001b[0;34m,\u001b[0m \u001b[0;36m3\u001b[0m\u001b[0;34m:\u001b[0m\u001b[0;34m]\u001b[0m\u001b[0;34m)\u001b[0m\u001b[0;34m\u001b[0m\u001b[0;34m\u001b[0m\u001b[0m\n",
            "\u001b[0;32m/usr/local/lib/python3.9/dist-packages/sklearn/utils/_set_output.py\u001b[0m in \u001b[0;36mwrapped\u001b[0;34m(self, X, *args, **kwargs)\u001b[0m\n\u001b[1;32m    138\u001b[0m     \u001b[0;34m@\u001b[0m\u001b[0mwraps\u001b[0m\u001b[0;34m(\u001b[0m\u001b[0mf\u001b[0m\u001b[0;34m)\u001b[0m\u001b[0;34m\u001b[0m\u001b[0;34m\u001b[0m\u001b[0m\n\u001b[1;32m    139\u001b[0m     \u001b[0;32mdef\u001b[0m \u001b[0mwrapped\u001b[0m\u001b[0;34m(\u001b[0m\u001b[0mself\u001b[0m\u001b[0;34m,\u001b[0m \u001b[0mX\u001b[0m\u001b[0;34m,\u001b[0m \u001b[0;34m*\u001b[0m\u001b[0margs\u001b[0m\u001b[0;34m,\u001b[0m \u001b[0;34m**\u001b[0m\u001b[0mkwargs\u001b[0m\u001b[0;34m)\u001b[0m\u001b[0;34m:\u001b[0m\u001b[0;34m\u001b[0m\u001b[0;34m\u001b[0m\u001b[0m\n\u001b[0;32m--> 140\u001b[0;31m         \u001b[0mdata_to_wrap\u001b[0m \u001b[0;34m=\u001b[0m \u001b[0mf\u001b[0m\u001b[0;34m(\u001b[0m\u001b[0mself\u001b[0m\u001b[0;34m,\u001b[0m \u001b[0mX\u001b[0m\u001b[0;34m,\u001b[0m \u001b[0;34m*\u001b[0m\u001b[0margs\u001b[0m\u001b[0;34m,\u001b[0m \u001b[0;34m**\u001b[0m\u001b[0mkwargs\u001b[0m\u001b[0;34m)\u001b[0m\u001b[0;34m\u001b[0m\u001b[0;34m\u001b[0m\u001b[0m\n\u001b[0m\u001b[1;32m    141\u001b[0m         \u001b[0;32mif\u001b[0m \u001b[0misinstance\u001b[0m\u001b[0;34m(\u001b[0m\u001b[0mdata_to_wrap\u001b[0m\u001b[0;34m,\u001b[0m \u001b[0mtuple\u001b[0m\u001b[0;34m)\u001b[0m\u001b[0;34m:\u001b[0m\u001b[0;34m\u001b[0m\u001b[0;34m\u001b[0m\u001b[0m\n\u001b[1;32m    142\u001b[0m             \u001b[0;31m# only wrap the first output for cross decomposition\u001b[0m\u001b[0;34m\u001b[0m\u001b[0;34m\u001b[0m\u001b[0m\n",
            "\u001b[0;32m/usr/local/lib/python3.9/dist-packages/sklearn/base.py\u001b[0m in \u001b[0;36mfit_transform\u001b[0;34m(self, X, y, **fit_params)\u001b[0m\n\u001b[1;32m    876\u001b[0m         \u001b[0;32mif\u001b[0m \u001b[0my\u001b[0m \u001b[0;32mis\u001b[0m \u001b[0;32mNone\u001b[0m\u001b[0;34m:\u001b[0m\u001b[0;34m\u001b[0m\u001b[0;34m\u001b[0m\u001b[0m\n\u001b[1;32m    877\u001b[0m             \u001b[0;31m# fit method of arity 1 (unsupervised transformation)\u001b[0m\u001b[0;34m\u001b[0m\u001b[0;34m\u001b[0m\u001b[0m\n\u001b[0;32m--> 878\u001b[0;31m             \u001b[0;32mreturn\u001b[0m \u001b[0mself\u001b[0m\u001b[0;34m.\u001b[0m\u001b[0mfit\u001b[0m\u001b[0;34m(\u001b[0m\u001b[0mX\u001b[0m\u001b[0;34m,\u001b[0m \u001b[0;34m**\u001b[0m\u001b[0mfit_params\u001b[0m\u001b[0;34m)\u001b[0m\u001b[0;34m.\u001b[0m\u001b[0mtransform\u001b[0m\u001b[0;34m(\u001b[0m\u001b[0mX\u001b[0m\u001b[0;34m)\u001b[0m\u001b[0;34m\u001b[0m\u001b[0;34m\u001b[0m\u001b[0m\n\u001b[0m\u001b[1;32m    879\u001b[0m         \u001b[0;32melse\u001b[0m\u001b[0;34m:\u001b[0m\u001b[0;34m\u001b[0m\u001b[0;34m\u001b[0m\u001b[0m\n\u001b[1;32m    880\u001b[0m             \u001b[0;31m# fit method of arity 2 (supervised transformation)\u001b[0m\u001b[0;34m\u001b[0m\u001b[0;34m\u001b[0m\u001b[0m\n",
            "\u001b[0;32m/usr/local/lib/python3.9/dist-packages/sklearn/preprocessing/_data.py\u001b[0m in \u001b[0;36mfit\u001b[0;34m(self, X, y, sample_weight)\u001b[0m\n\u001b[1;32m    822\u001b[0m         \u001b[0;31m# Reset internal state before fitting\u001b[0m\u001b[0;34m\u001b[0m\u001b[0;34m\u001b[0m\u001b[0m\n\u001b[1;32m    823\u001b[0m         \u001b[0mself\u001b[0m\u001b[0;34m.\u001b[0m\u001b[0m_reset\u001b[0m\u001b[0;34m(\u001b[0m\u001b[0;34m)\u001b[0m\u001b[0;34m\u001b[0m\u001b[0;34m\u001b[0m\u001b[0m\n\u001b[0;32m--> 824\u001b[0;31m         \u001b[0;32mreturn\u001b[0m \u001b[0mself\u001b[0m\u001b[0;34m.\u001b[0m\u001b[0mpartial_fit\u001b[0m\u001b[0;34m(\u001b[0m\u001b[0mX\u001b[0m\u001b[0;34m,\u001b[0m \u001b[0my\u001b[0m\u001b[0;34m,\u001b[0m \u001b[0msample_weight\u001b[0m\u001b[0;34m)\u001b[0m\u001b[0;34m\u001b[0m\u001b[0;34m\u001b[0m\u001b[0m\n\u001b[0m\u001b[1;32m    825\u001b[0m \u001b[0;34m\u001b[0m\u001b[0m\n\u001b[1;32m    826\u001b[0m     \u001b[0;32mdef\u001b[0m \u001b[0mpartial_fit\u001b[0m\u001b[0;34m(\u001b[0m\u001b[0mself\u001b[0m\u001b[0;34m,\u001b[0m \u001b[0mX\u001b[0m\u001b[0;34m,\u001b[0m \u001b[0my\u001b[0m\u001b[0;34m=\u001b[0m\u001b[0;32mNone\u001b[0m\u001b[0;34m,\u001b[0m \u001b[0msample_weight\u001b[0m\u001b[0;34m=\u001b[0m\u001b[0;32mNone\u001b[0m\u001b[0;34m)\u001b[0m\u001b[0;34m:\u001b[0m\u001b[0;34m\u001b[0m\u001b[0;34m\u001b[0m\u001b[0m\n",
            "\u001b[0;32m/usr/local/lib/python3.9/dist-packages/sklearn/preprocessing/_data.py\u001b[0m in \u001b[0;36mpartial_fit\u001b[0;34m(self, X, y, sample_weight)\u001b[0m\n\u001b[1;32m    859\u001b[0m \u001b[0;34m\u001b[0m\u001b[0m\n\u001b[1;32m    860\u001b[0m         \u001b[0mfirst_call\u001b[0m \u001b[0;34m=\u001b[0m \u001b[0;32mnot\u001b[0m \u001b[0mhasattr\u001b[0m\u001b[0;34m(\u001b[0m\u001b[0mself\u001b[0m\u001b[0;34m,\u001b[0m \u001b[0;34m\"n_samples_seen_\"\u001b[0m\u001b[0;34m)\u001b[0m\u001b[0;34m\u001b[0m\u001b[0;34m\u001b[0m\u001b[0m\n\u001b[0;32m--> 861\u001b[0;31m         X = self._validate_data(\n\u001b[0m\u001b[1;32m    862\u001b[0m             \u001b[0mX\u001b[0m\u001b[0;34m,\u001b[0m\u001b[0;34m\u001b[0m\u001b[0;34m\u001b[0m\u001b[0m\n\u001b[1;32m    863\u001b[0m             \u001b[0maccept_sparse\u001b[0m\u001b[0;34m=\u001b[0m\u001b[0;34m(\u001b[0m\u001b[0;34m\"csr\"\u001b[0m\u001b[0;34m,\u001b[0m \u001b[0;34m\"csc\"\u001b[0m\u001b[0;34m)\u001b[0m\u001b[0;34m,\u001b[0m\u001b[0;34m\u001b[0m\u001b[0;34m\u001b[0m\u001b[0m\n",
            "\u001b[0;32m/usr/local/lib/python3.9/dist-packages/sklearn/base.py\u001b[0m in \u001b[0;36m_validate_data\u001b[0;34m(self, X, y, reset, validate_separately, **check_params)\u001b[0m\n\u001b[1;32m    563\u001b[0m             \u001b[0;32mraise\u001b[0m \u001b[0mValueError\u001b[0m\u001b[0;34m(\u001b[0m\u001b[0;34m\"Validation should be done on X, y or both.\"\u001b[0m\u001b[0;34m)\u001b[0m\u001b[0;34m\u001b[0m\u001b[0;34m\u001b[0m\u001b[0m\n\u001b[1;32m    564\u001b[0m         \u001b[0;32melif\u001b[0m \u001b[0;32mnot\u001b[0m \u001b[0mno_val_X\u001b[0m \u001b[0;32mand\u001b[0m \u001b[0mno_val_y\u001b[0m\u001b[0;34m:\u001b[0m\u001b[0;34m\u001b[0m\u001b[0;34m\u001b[0m\u001b[0m\n\u001b[0;32m--> 565\u001b[0;31m             \u001b[0mX\u001b[0m \u001b[0;34m=\u001b[0m \u001b[0mcheck_array\u001b[0m\u001b[0;34m(\u001b[0m\u001b[0mX\u001b[0m\u001b[0;34m,\u001b[0m \u001b[0minput_name\u001b[0m\u001b[0;34m=\u001b[0m\u001b[0;34m\"X\"\u001b[0m\u001b[0;34m,\u001b[0m \u001b[0;34m**\u001b[0m\u001b[0mcheck_params\u001b[0m\u001b[0;34m)\u001b[0m\u001b[0;34m\u001b[0m\u001b[0;34m\u001b[0m\u001b[0m\n\u001b[0m\u001b[1;32m    566\u001b[0m             \u001b[0mout\u001b[0m \u001b[0;34m=\u001b[0m \u001b[0mX\u001b[0m\u001b[0;34m\u001b[0m\u001b[0;34m\u001b[0m\u001b[0m\n\u001b[1;32m    567\u001b[0m         \u001b[0;32melif\u001b[0m \u001b[0mno_val_X\u001b[0m \u001b[0;32mand\u001b[0m \u001b[0;32mnot\u001b[0m \u001b[0mno_val_y\u001b[0m\u001b[0;34m:\u001b[0m\u001b[0;34m\u001b[0m\u001b[0;34m\u001b[0m\u001b[0m\n",
            "\u001b[0;32m/usr/local/lib/python3.9/dist-packages/sklearn/utils/validation.py\u001b[0m in \u001b[0;36mcheck_array\u001b[0;34m(array, accept_sparse, accept_large_sparse, dtype, order, copy, force_all_finite, ensure_2d, allow_nd, ensure_min_samples, ensure_min_features, estimator, input_name)\u001b[0m\n\u001b[1;32m    877\u001b[0m                     \u001b[0marray\u001b[0m \u001b[0;34m=\u001b[0m \u001b[0mxp\u001b[0m\u001b[0;34m.\u001b[0m\u001b[0mastype\u001b[0m\u001b[0;34m(\u001b[0m\u001b[0marray\u001b[0m\u001b[0;34m,\u001b[0m \u001b[0mdtype\u001b[0m\u001b[0;34m,\u001b[0m \u001b[0mcopy\u001b[0m\u001b[0;34m=\u001b[0m\u001b[0;32mFalse\u001b[0m\u001b[0;34m)\u001b[0m\u001b[0;34m\u001b[0m\u001b[0;34m\u001b[0m\u001b[0m\n\u001b[1;32m    878\u001b[0m                 \u001b[0;32melse\u001b[0m\u001b[0;34m:\u001b[0m\u001b[0;34m\u001b[0m\u001b[0;34m\u001b[0m\u001b[0m\n\u001b[0;32m--> 879\u001b[0;31m                     \u001b[0marray\u001b[0m \u001b[0;34m=\u001b[0m \u001b[0m_asarray_with_order\u001b[0m\u001b[0;34m(\u001b[0m\u001b[0marray\u001b[0m\u001b[0;34m,\u001b[0m \u001b[0morder\u001b[0m\u001b[0;34m=\u001b[0m\u001b[0morder\u001b[0m\u001b[0;34m,\u001b[0m \u001b[0mdtype\u001b[0m\u001b[0;34m=\u001b[0m\u001b[0mdtype\u001b[0m\u001b[0;34m,\u001b[0m \u001b[0mxp\u001b[0m\u001b[0;34m=\u001b[0m\u001b[0mxp\u001b[0m\u001b[0;34m)\u001b[0m\u001b[0;34m\u001b[0m\u001b[0;34m\u001b[0m\u001b[0m\n\u001b[0m\u001b[1;32m    880\u001b[0m             \u001b[0;32mexcept\u001b[0m \u001b[0mComplexWarning\u001b[0m \u001b[0;32mas\u001b[0m \u001b[0mcomplex_warning\u001b[0m\u001b[0;34m:\u001b[0m\u001b[0;34m\u001b[0m\u001b[0;34m\u001b[0m\u001b[0m\n\u001b[1;32m    881\u001b[0m                 raise ValueError(\n",
            "\u001b[0;32m/usr/local/lib/python3.9/dist-packages/sklearn/utils/_array_api.py\u001b[0m in \u001b[0;36m_asarray_with_order\u001b[0;34m(array, dtype, order, copy, xp)\u001b[0m\n\u001b[1;32m    183\u001b[0m     \u001b[0;32mif\u001b[0m \u001b[0mxp\u001b[0m\u001b[0;34m.\u001b[0m\u001b[0m__name__\u001b[0m \u001b[0;32min\u001b[0m \u001b[0;34m{\u001b[0m\u001b[0;34m\"numpy\"\u001b[0m\u001b[0;34m,\u001b[0m \u001b[0;34m\"numpy.array_api\"\u001b[0m\u001b[0;34m}\u001b[0m\u001b[0;34m:\u001b[0m\u001b[0;34m\u001b[0m\u001b[0;34m\u001b[0m\u001b[0m\n\u001b[1;32m    184\u001b[0m         \u001b[0;31m# Use NumPy API to support order\u001b[0m\u001b[0;34m\u001b[0m\u001b[0;34m\u001b[0m\u001b[0m\n\u001b[0;32m--> 185\u001b[0;31m         \u001b[0marray\u001b[0m \u001b[0;34m=\u001b[0m \u001b[0mnumpy\u001b[0m\u001b[0;34m.\u001b[0m\u001b[0masarray\u001b[0m\u001b[0;34m(\u001b[0m\u001b[0marray\u001b[0m\u001b[0;34m,\u001b[0m \u001b[0morder\u001b[0m\u001b[0;34m=\u001b[0m\u001b[0morder\u001b[0m\u001b[0;34m,\u001b[0m \u001b[0mdtype\u001b[0m\u001b[0;34m=\u001b[0m\u001b[0mdtype\u001b[0m\u001b[0;34m)\u001b[0m\u001b[0;34m\u001b[0m\u001b[0;34m\u001b[0m\u001b[0m\n\u001b[0m\u001b[1;32m    186\u001b[0m         \u001b[0;32mreturn\u001b[0m \u001b[0mxp\u001b[0m\u001b[0;34m.\u001b[0m\u001b[0masarray\u001b[0m\u001b[0;34m(\u001b[0m\u001b[0marray\u001b[0m\u001b[0;34m,\u001b[0m \u001b[0mcopy\u001b[0m\u001b[0;34m=\u001b[0m\u001b[0mcopy\u001b[0m\u001b[0;34m)\u001b[0m\u001b[0;34m\u001b[0m\u001b[0;34m\u001b[0m\u001b[0m\n\u001b[1;32m    187\u001b[0m     \u001b[0;32melse\u001b[0m\u001b[0;34m:\u001b[0m\u001b[0;34m\u001b[0m\u001b[0;34m\u001b[0m\u001b[0m\n",
            "\u001b[0;31mValueError\u001b[0m: could not convert string to float: '₹9,69930% off'"
          ]
        }
      ]
    },
    {
      "cell_type": "code",
      "source": [
        "print(x_train)"
      ],
      "metadata": {
        "colab": {
          "base_uri": "https://localhost:8080/"
        },
        "id": "wcHLvZwViDuE",
        "outputId": "62980cb7-2ad8-4143-ae6a-34c0aed01a72"
      },
      "execution_count": 17,
      "outputs": [
        {
          "output_type": "stream",
          "name": "stdout",
          "text": [
            "[[191 nan\n",
            "  'https://rukminim1.flixcart.com/image/300/300/l1qrjbk0/mobile/t/e/j/-original-imagd8pyehxtp4yg.jpeg?q=90'\n",
            "  ... nan nan nan]\n",
            " [314 'itel IT5626'\n",
            "  'https://rukminim1.flixcart.com/image/312/312/kn3i1zk0/mobile/o/o/k/it5626-it5626-itel-original-imagfugg7hbhf86g.jpeg?q=70'\n",
            "  ... '7.11 cm (2.8 inch) QVGA Display' '2500 mAh Lithium ion Battery'\n",
            "  'SC6531C Processor']\n",
            " [350 'SAMSUNG Galaxy F23 5G (Copper Blush, 128 GB)'\n",
            "  'https://rukminim1.flixcart.com/image/312/312/xif0q/mobile/f/c/v/-original-imagehzbaw2wugme.jpeg?q=70'\n",
            "  ... '16.76 cm (6.6 inch) Full HD+ Display'\n",
            "  '5000 mAh Lithium Ion Battery' 'Qualcomm Snapdragon 750G Processor']\n",
            " ...\n",
            " [1096 'Kechaoda K10'\n",
            "  'https://rukminim1.flixcart.com/image/312/312/ji0lbbk0/mobile/n/g/q/kechaoda-k10-k10-original-imaf5wgqnbvjzmzf.jpeg?q=70'\n",
            "  ... '1.68 cm (0.66 inch) NA Display' '1 Year Manufacturer Warranty' nan]\n",
            " [235 'APPLE iPhone 11 (White, 64 GB)'\n",
            "  'https://rukminim1.flixcart.com/image/312/312/k2jbyq80pkrrdj/mobile-refurbished/k/y/d/iphone-11-256-u-mwm82hn-a-apple-0-original-imafkg25mhaztxns.jpeg?q=70'\n",
            "  ... '15.49 cm (6.1 inch) Liquid Retina HD Display'\n",
            "  'A13 Bionic Chip Processor' 'Brand Warranty of 1 Year']\n",
            " [1061 nan\n",
            "  'https://rukminim1.flixcart.com/image/300/300/kn3i1zk0/mobile/o/o/k/it5626-it5626-itel-original-imagfugg7hbhf86g.jpeg?q=90'\n",
            "  ... nan nan nan]]\n"
          ]
        }
      ]
    },
    {
      "cell_type": "code",
      "source": [
        "print(x_test)"
      ],
      "metadata": {
        "colab": {
          "base_uri": "https://localhost:8080/"
        },
        "id": "RtSa8qYIiJPr",
        "outputId": "4275ae8c-c609-48c1-a296-4c3d9cdc33ea"
      },
      "execution_count": 18,
      "outputs": [
        {
          "output_type": "stream",
          "name": "stdout",
          "text": [
            "[[491 'vivo Y100 5G (Twilight Gold, 128 GB)'\n",
            "  'https://rukminim1.flixcart.com/image/312/312/xif0q/mobile/n/d/4/-original-imagmvgcnpanjhdx.jpeg?q=70'\n",
            "  ... '16.21 cm (6.38 inch) Full HD+ AMOLED Display' '4500 mAh Battery'\n",
            "  'Mediatek Dimensity 900 Processor']\n",
            " [325 'realme C11 2021 (Cool Blue, 64 GB)'\n",
            "  'https://rukminim1.flixcart.com/image/312/312/kqjtd3k0/mobile/o/4/x/c11-2021-rmx3231-realme-original-imag4j4yrdt7d9cj.jpeg?q=70'\n",
            "  ... '16.51 cm (6.5 inch) HD+ Display' '5000 mAh Battery'\n",
            "  'Octa-core Processor']\n",
            " [446 nan\n",
            "  'https://rukminim1.flixcart.com/image/300/300/xif0q/mobile/p/u/o/-original-imagjdmzxtnvr4rz.jpeg?q=90'\n",
            "  ... nan nan nan]\n",
            " ...\n",
            " [553 'MOTOROLA Edge 30 Pro (Cosmos Blue, 128 GB)'\n",
            "  'https://rukminim1.flixcart.com/image/312/312/kzzw5u80/mobile/k/n/c/-original-imagbvp7eha43hjx.jpeg?q=70'\n",
            "  ... '17.02 cm (6.7 inch) Full HD+ AMOLED Display'\n",
            "  '4800 mAh Lithium Polymer Battery'\n",
            "  'Qualcomm Snapdragon 8 Gen 1 Processor']\n",
            " [796 'Micromax X809'\n",
            "  'https://rukminim1.flixcart.com/image/312/312/k0lbdzk0pkrrdj/mobile/7/v/f/micromax-x809-x809-original-imafjsfjgynt3u9z.jpeg?q=70'\n",
            "  ... '7.11 cm (2.8 inch) Display' '1000 mAh Battery' '1 Year Warranty']\n",
            " [180 'SAMSUNG GALAXY M13 (Midnight Blue, 64 GB)'\n",
            "  'https://rukminim1.flixcart.com/image/312/312/xif0q/mobile/n/r/8/-original-imagghcfsdbuemmd.jpeg?q=70'\n",
            "  ... '16.76 cm (6.6 inch) Display' '6000 mAh Battery'\n",
            "  '12 Months Warranty']]\n"
          ]
        }
      ]
    }
  ]
}